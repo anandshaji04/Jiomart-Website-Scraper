{
 "cells": [
  {
   "cell_type": "code",
   "execution_count": 6,
   "id": "87b8f506",
   "metadata": {},
   "outputs": [],
   "source": [
    "from selenium import webdriver\n",
    "from selenium.webdriver.chrome.options import Options\n",
    "from selenium.webdriver.common.by import By\n",
    "from selenium.webdriver.support.ui import WebDriverWait\n",
    "from selenium.webdriver.support import expected_conditions as EC\n",
    "from bs4 import BeautifulSoup\n",
    "import time"
   ]
  },
  {
   "cell_type": "code",
   "execution_count": 7,
   "id": "ee0b71a3",
   "metadata": {},
   "outputs": [],
   "source": [
    "def scrape_jiomart_bedding():\n",
    "    url = \"https://www.jiomart.com/c/homeandkitchen/home-furnishing/bedding/31421\"\n",
    "\n",
    "    options = Options()\n",
    "    options.add_argument(\"--headless\")\n",
    "    options.add_argument(\"--disable-gpu\")\n",
    "    options.add_argument(\"--no-sandbox\")\n",
    "    driver = webdriver.Chrome(options=options)\n",
    "\n",
    "    driver.get(url)\n",
    "    for _ in range(10):\n",
    "        driver.execute_script(\"window.scrollTo(0, document.body.scrollHeight);\")\n",
    "        time.sleep(1.5)\n",
    "\n",
    "    WebDriverWait(driver, 10).until(\n",
    "        EC.presence_of_element_located((By.CLASS_NAME, \"ais-InfiniteHits-item\"))\n",
    "    )\n",
    "\n",
    "    soup = BeautifulSoup(driver.page_source, \"html.parser\")\n",
    "    driver.quit()\n",
    "\n",
    "    product_cards = soup.find_all(\"li\", class_=\"ais-InfiniteHits-item\")\n",
    "    results = []\n",
    "\n",
    "    for card in product_cards:\n",
    "        try:\n",
    "            title_tag = card.select_one(\"a[title]\")\n",
    "            product_title = title_tag[\"title\"].strip() if title_tag else \"N/A\"\n",
    "            product_link = f\"https://www.jiomart.com{title_tag['href']}\" if title_tag else \"N/A\"\n",
    "\n",
    "            img_tag = card.select_one(\"img\")\n",
    "            product_image_link = img_tag.get(\"data-src\") or img_tag.get(\"src\") or \"N/A\"\n",
    "\n",
    "            price_tag = card.select_one(\".jm-heading-xxs\")\n",
    "            product_price = price_tag.text.strip() if price_tag else \"N/A\"\n",
    "\n",
    "            discount_tag = card.select_one(\".jm-badge\")\n",
    "            product_discount = discount_tag.text.strip() if discount_tag else \"N/A\"\n",
    "\n",
    "            product_rating = \"N/A\"\n",
    "            product_text = ' '.join(card.stripped_strings)\n",
    "\n",
    "            results.append({\n",
    "                \"product_title\": product_title,\n",
    "                \"product_price\": product_price,\n",
    "                \"product_link\": product_link,\n",
    "                \"product_image_link\": product_image_link,\n",
    "                \"product_rating\": product_rating,\n",
    "                \"product_discount\": product_discount,\n",
    "                \"product_text\": product_text\n",
    "            })\n",
    "\n",
    "        except:\n",
    "            continue\n",
    "\n",
    "    return results"
   ]
  },
  {
   "cell_type": "code",
   "execution_count": 8,
   "id": "de8f75cf",
   "metadata": {},
   "outputs": [
    {
     "name": "stdout",
     "output_type": "stream",
     "text": [
      "{'product_title': 'Sleepsia Memory Foam Wedge Pillow - Orthopedic Back & Neck Pain Relief, Acid Reflux & Post-Surgery Support, Adjustable Leg Elevation Cushion (Blue/Grey)', 'product_price': '₹799.00', 'product_link': 'https://www.jiomart.com/p/homeandkitchen/sleepsia-memory-foam-orthopedic-bed-wedge-pillow-leg-elevation-incline-pillow-for-back-support-blue-grey/607958019', 'product_image_link': 'https://www.jiomart.com/images/product/original/rvjbpus5fp/sleepsia-memory-foam-wedge-pillow-orthopedic-back-neck-pain-relief-acid-reflux-post-surgery-support-adjustable-leg-elevation-cushion-blue-grey-product-images-orvjbpus5fp-p607958019-0-202505302309.jpg?im=Resize=(360,360)', 'product_rating': 'N/A', 'product_discount': '73% OFF', 'product_text': 'Sleepsia Memory Foam Wedge Pillow - Orthopedic Back & Neck Pain Relief, Acid Reflux & Post-Surgery Support, Adjustable Leg Elevation Cushion (Blue/Grey) ₹799.00 ₹2,999.00 73% OFF Add'}\n",
      "{'product_title': 'Decent Home Polycotton Single Bedsheet with 1 Pillow covers (228 x 152 cm) Grey', 'product_price': '₹139.00', 'product_link': 'https://www.jiomart.com/p/homeandkitchen/decent-home-polycotton-single-bedsheet-with-1-pillow-covers-228-x-152-cm-grey/599717859', 'product_image_link': 'https://www.jiomart.com/images/product/original/rvij8z2woy/decent-home-polycotton-single-bedsheet-with-1-pillow-covers-228-x-152-cm-grey-product-images-orvij8z2woy-p599717859-0-202303221748.jpg?im=Resize=(360,360)', 'product_rating': 'N/A', 'product_discount': '82% OFF', 'product_text': 'Decent Home Polycotton Single Bedsheet with 1 Pillow covers (228 x 152 cm) Grey ₹139.00 ₹799.00 82% OFF Add'}\n",
      "{'product_title': 'Status Contract Cotton Rich Double Bedsheet with 2 Pillow Covers for Bed Room, Home, Hotel-120 GSM (Blue Stripes)', 'product_price': '₹199.00', 'product_link': 'https://www.jiomart.com/p/homeandkitchen/status-contract-cotton-rich-double-bedsheet-with-2-pillow-covers-for-bed-room-home-hotel-120-gsm-blue-stripes/610598557', 'product_image_link': 'https://www.jiomart.com/images/product/original/rvxlensars/status-contract-cotton-rich-double-bedsheet-with-2-pillow-covers-for-bed-room-home-hotel-120-gsm-blue-stripes-product-images-orvxlensars-p610598557-0-202410241854.jpg?im=Resize=(360,360)', 'product_rating': 'N/A', 'product_discount': '75% OFF', 'product_text': 'Status Contract Cotton Rich Double Bedsheet with 2 Pillow Covers for Bed Room, Home, Hotel-120 GSM (Blue Stripes) ₹199.00 ₹799.00 75% OFF Add'}\n",
      "{'product_title': 'Decent Home Polycotton 3D Printed Double Bedsheet with 2 Pillow covers - (220 x 220 cm) Maroon', 'product_price': '₹209.00', 'product_link': 'https://www.jiomart.com/p/homeandkitchen/decent-home-polycotton-3d-printed-double-bedsheet-with-2-pillow-covers-220-x-220-cm-blue/599919048', 'product_image_link': 'https://www.jiomart.com/images/product/original/rvqzwtm5lv/decent-home-polycotton-3d-printed-double-bedsheet-with-2-pillow-covers-220-x-220-cm-blue-product-images-orvqzwtm5lv-p599919048-0-202309270504.jpg?im=Resize=(360,360)', 'product_rating': 'N/A', 'product_discount': '79% OFF', 'product_text': 'Decent Home Polycotton 3D Printed Double Bedsheet with 2 Pillow covers - (220 x 220 cm) Maroon ₹209.00 ₹999.00 79% OFF Add'}\n",
      "{'product_title': 'Sleepsia Microfiber Hotel Pillow for Sleeping - Ultra Soft & Supportive Bed Pillows for Back, Side & Stomach Sleepers, Hypoallergenic 24x16 Pillow (White, Pack of 1)', 'product_price': '₹230.00', 'product_link': 'https://www.jiomart.com/p/homeandkitchen/sleepsia-microfiber-hotel-pillow-for-sleeping-ultra-soft-bed-pillows-24-x-16-white-pack-of-1/600985266', 'product_image_link': 'https://www.jiomart.com/images/product/original/rv1jph5crn/sleepsia-microfiber-hotel-pillow-for-sleeping-ultra-soft-supportive-bed-pillows-for-back-side-stomach-sleepers-hypoallergenic-24x16-pillow-white-pack-of-1-product-images-orv1jph5crn-p600985266-0-202506061636.jpg?im=Resize=(360,360)', 'product_rating': 'N/A', 'product_discount': '76% OFF', 'product_text': 'Sleepsia Microfiber Hotel Pillow for Sleeping - Ultra Soft & Supportive Bed Pillows for Back, Side & Stomach Sleepers, Hypoallergenic 24x16 Pillow (White, Pack of 1) ₹230.00 ₹999.00 76% OFF Add'}\n"
     ]
    }
   ],
   "source": [
    "# Example usage:\n",
    "products = scrape_jiomart_bedding()\n",
    "for p in products[:5]:\n",
    "    print(p)\n"
   ]
  }
 ],
 "metadata": {
  "kernelspec": {
   "display_name": "Python 3 (ipykernel)",
   "language": "python",
   "name": "python3"
  },
  "language_info": {
   "codemirror_mode": {
    "name": "ipython",
    "version": 3
   },
   "file_extension": ".py",
   "mimetype": "text/x-python",
   "name": "python",
   "nbconvert_exporter": "python",
   "pygments_lexer": "ipython3",
   "version": "3.9.13"
  }
 },
 "nbformat": 4,
 "nbformat_minor": 5
}
